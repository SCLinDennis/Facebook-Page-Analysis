{
 "cells": [
  {
   "cell_type": "code",
   "execution_count": 61,
   "metadata": {},
   "outputs": [],
   "source": [
    "import matplotlib.pyplot as plt\n",
    "\n",
    "\n",
    "import os\n",
    "import networkx as nx\n",
    "import pandas as pd\n",
    "import csv"
   ]
  },
  {
   "cell_type": "code",
   "execution_count": 5,
   "metadata": {},
   "outputs": [],
   "source": [
    "os.chdir('/Users/DennisLin/Documents/Python/ECE227/Final/facebook_large/')"
   ]
  },
  {
   "cell_type": "code",
   "execution_count": 131,
   "metadata": {},
   "outputs": [],
   "source": [
    "def read_csv(csv_path, label_path):\n",
    "    edges = pd.read_csv(csv_path)\n",
    "    label = pd.read_csv(label_path)\n",
    "    edges = edges.rename(columns={\"id_1\": \"source\", \"id_2\": \"target\"})\n",
    "    Graphtype = nx.Graph()\n",
    "    graph = nx.from_pandas_edgelist(edges, create_using=Graphtype)\n",
    "    for i, node in enumerate(graph.nodes()):\n",
    "        graph.nodes[node]['page_name'] = label[label['id'] == node]['page_name'][node]\n",
    "        graph.nodes[node]['page_type'] = label[label['id'] == node]['page_type'][node]\n",
    "    return graph"
   ]
  },
  {
   "cell_type": "code",
   "execution_count": 132,
   "metadata": {},
   "outputs": [],
   "source": [
    "csv_path = \"./musae_facebook_edges.csv\"\n",
    "label_path = \"./musae_facebook_target.csv\"\n",
    "Facebook = read_csv(csv_path, label_path)"
   ]
  },
  {
   "cell_type": "code",
   "execution_count": 133,
   "metadata": {},
   "outputs": [],
   "source": [
    "degree = Facebook.degree()"
   ]
  },
  {
   "cell_type": "code",
   "execution_count": null,
   "metadata": {},
   "outputs": [],
   "source": [
    "b_centrality = nx.betweenness_centrality(Facebook)"
   ]
  },
  {
   "cell_type": "code",
   "execution_count": 17,
   "metadata": {},
   "outputs": [],
   "source": [
    "for n in Facebook.nodes():\n",
    "    Facebook.nodes[n]['degree'] = degree[n]\n",
    "for n in Facebook.nodes():\n",
    "    Facebook.nodes[n]['between'] = b_centrality[n]"
   ]
  },
  {
   "cell_type": "code",
   "execution_count": null,
   "metadata": {},
   "outputs": [],
   "source": [
    "nx.write_gml(Facebook, \"./facebook.gml\")"
   ]
  }
 ],
 "metadata": {
  "anaconda-cloud": {},
  "kernelspec": {
   "display_name": "Python [conda env:py35]",
   "language": "python",
   "name": "conda-env-py35-py"
  },
  "language_info": {
   "codemirror_mode": {
    "name": "ipython",
    "version": 3
   },
   "file_extension": ".py",
   "mimetype": "text/x-python",
   "name": "python",
   "nbconvert_exporter": "python",
   "pygments_lexer": "ipython3",
   "version": "3.7.3"
  }
 },
 "nbformat": 4,
 "nbformat_minor": 2
}
