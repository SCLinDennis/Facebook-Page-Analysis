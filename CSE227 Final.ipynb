{
 "cells": [
  {
   "cell_type": "code",
   "execution_count": 37,
   "metadata": {},
   "outputs": [],
   "source": [
    "import matplotlib.pyplot as plt\n",
    "import os\n",
    "import networkx as nx\n",
    "import pandas as pd\n",
    "import csv\n",
    "from collections import *\n",
    "import numpy as np"
   ]
  },
  {
   "cell_type": "code",
   "execution_count": 2,
   "metadata": {},
   "outputs": [],
   "source": [
    "os.chdir('./facebook_large/')"
   ]
  },
  {
   "cell_type": "code",
   "execution_count": 131,
   "metadata": {},
   "outputs": [],
   "source": [
    "def read_csv(csv_path, label_path):\n",
    "    edges = pd.read_csv(csv_path)\n",
    "    label = pd.read_csv(label_path)\n",
    "    edges = edges.rename(columns={\"id_1\": \"source\", \"id_2\": \"target\"})\n",
    "    Graphtype = nx.Graph()\n",
    "    graph = nx.from_pandas_edgelist(edges, create_using=Graphtype)\n",
    "    for i, node in enumerate(graph.nodes()):\n",
    "        graph.nodes[node]['pagename'] = label[label['id'] == node]['pagename'][node]\n",
    "        graph.nodes[node]['pagetype'] = label[label['id'] == node]['pagetype'][node]\n",
    "    return graph"
   ]
  },
  {
   "cell_type": "code",
   "execution_count": 10,
   "metadata": {},
   "outputs": [
    {
     "ename": "NameError",
     "evalue": "name 'read_csv' is not defined",
     "output_type": "error",
     "traceback": [
      "\u001b[0;31m---------------------------------------------------------------------------\u001b[0m",
      "\u001b[0;31mNameError\u001b[0m                                 Traceback (most recent call last)",
      "\u001b[0;32m<ipython-input-10-91a92fc04a13>\u001b[0m in \u001b[0;36m<module>\u001b[0;34m\u001b[0m\n\u001b[1;32m      1\u001b[0m \u001b[0mcsv_path\u001b[0m \u001b[0;34m=\u001b[0m \u001b[0;34m\"./musae_facebook_edges.csv\"\u001b[0m\u001b[0;34m\u001b[0m\u001b[0;34m\u001b[0m\u001b[0m\n\u001b[1;32m      2\u001b[0m \u001b[0mlabel_path\u001b[0m \u001b[0;34m=\u001b[0m \u001b[0;34m\"./musae_facebook_target.csv\"\u001b[0m\u001b[0;34m\u001b[0m\u001b[0;34m\u001b[0m\u001b[0m\n\u001b[0;32m----> 3\u001b[0;31m \u001b[0mFacebook\u001b[0m \u001b[0;34m=\u001b[0m \u001b[0mread_csv\u001b[0m\u001b[0;34m(\u001b[0m\u001b[0mcsv_path\u001b[0m\u001b[0;34m,\u001b[0m \u001b[0mlabel_path\u001b[0m\u001b[0;34m)\u001b[0m\u001b[0;34m\u001b[0m\u001b[0;34m\u001b[0m\u001b[0m\n\u001b[0m",
      "\u001b[0;31mNameError\u001b[0m: name 'read_csv' is not defined"
     ]
    }
   ],
   "source": [
    "csv_path = \"./musae_facebook_edges.csv\"\n",
    "label_path = \"./musae_facebook_target.csv\"\n",
    "Facebook = read_csv(csv_path, label_path)"
   ]
  },
  {
   "cell_type": "code",
   "execution_count": 11,
   "metadata": {},
   "outputs": [],
   "source": [
    "label_path = \"./musae_facebook_target.csv\"\n",
    "label = pd.read_csv(label_path)"
   ]
  },
  {
   "cell_type": "code",
   "execution_count": 12,
   "metadata": {},
   "outputs": [
    {
     "data": {
      "text/html": [
       "<div>\n",
       "<style scoped>\n",
       "    .dataframe tbody tr th:only-of-type {\n",
       "        vertical-align: middle;\n",
       "    }\n",
       "\n",
       "    .dataframe tbody tr th {\n",
       "        vertical-align: top;\n",
       "    }\n",
       "\n",
       "    .dataframe thead th {\n",
       "        text-align: right;\n",
       "    }\n",
       "</style>\n",
       "<table border=\"1\" class=\"dataframe\">\n",
       "  <thead>\n",
       "    <tr style=\"text-align: right;\">\n",
       "      <th></th>\n",
       "      <th>id</th>\n",
       "      <th>facebook_id</th>\n",
       "      <th>page_name</th>\n",
       "      <th>page_type</th>\n",
       "    </tr>\n",
       "  </thead>\n",
       "  <tbody>\n",
       "    <tr>\n",
       "      <th>0</th>\n",
       "      <td>0</td>\n",
       "      <td>145647315578475</td>\n",
       "      <td>The Voice of China 中国好声音</td>\n",
       "      <td>tvshow</td>\n",
       "    </tr>\n",
       "    <tr>\n",
       "      <th>1</th>\n",
       "      <td>1</td>\n",
       "      <td>191483281412</td>\n",
       "      <td>U.S. Consulate General Mumbai</td>\n",
       "      <td>government</td>\n",
       "    </tr>\n",
       "    <tr>\n",
       "      <th>2</th>\n",
       "      <td>2</td>\n",
       "      <td>144761358898518</td>\n",
       "      <td>ESET</td>\n",
       "      <td>company</td>\n",
       "    </tr>\n",
       "    <tr>\n",
       "      <th>3</th>\n",
       "      <td>3</td>\n",
       "      <td>568700043198473</td>\n",
       "      <td>Consulate General of Switzerland in Montreal</td>\n",
       "      <td>government</td>\n",
       "    </tr>\n",
       "    <tr>\n",
       "      <th>4</th>\n",
       "      <td>4</td>\n",
       "      <td>1408935539376139</td>\n",
       "      <td>Mark Bailey MP - Labor for Miller</td>\n",
       "      <td>politician</td>\n",
       "    </tr>\n",
       "  </tbody>\n",
       "</table>\n",
       "</div>"
      ],
      "text/plain": [
       "   id       facebook_id                                     page_name  \\\n",
       "0   0   145647315578475                      The Voice of China 中国好声音   \n",
       "1   1      191483281412                 U.S. Consulate General Mumbai   \n",
       "2   2   144761358898518                                          ESET   \n",
       "3   3   568700043198473  Consulate General of Switzerland in Montreal   \n",
       "4   4  1408935539376139             Mark Bailey MP - Labor for Miller   \n",
       "\n",
       "    page_type  \n",
       "0      tvshow  \n",
       "1  government  \n",
       "2     company  \n",
       "3  government  \n",
       "4  politician  "
      ]
     },
     "execution_count": 12,
     "metadata": {},
     "output_type": "execute_result"
    }
   ],
   "source": [
    "label.head()"
   ]
  },
  {
   "cell_type": "code",
   "execution_count": 133,
   "metadata": {},
   "outputs": [],
   "source": [
    "degree = Facebook.degree()"
   ]
  },
  {
   "cell_type": "code",
   "execution_count": 134,
   "metadata": {},
   "outputs": [],
   "source": [
    "b_centrality = nx.betweenness_centrality(Facebook)"
   ]
  },
  {
   "cell_type": "code",
   "execution_count": 135,
   "metadata": {},
   "outputs": [],
   "source": [
    "for n in Facebook.nodes():\n",
    "    Facebook.nodes[n]['degree'] = degree[n]\n",
    "for n in Facebook.nodes():\n",
    "    Facebook.nodes[n]['between'] = b_centrality[n]"
   ]
  },
  {
   "cell_type": "code",
   "execution_count": 146,
   "metadata": {},
   "outputs": [],
   "source": [
    "# for n in Facebook:\n",
    "#     if 'page_name' in Facebook.nodes[n]:\n",
    "#         Facebook.nodes[n]['pagename'] = Facebook.nodes[n]['page_name']\n",
    "#         del Facebook.nodes[n]['page_name']\n",
    "#     if 'page_type' in Facebook.nodes[n]:\n",
    "#         Facebook.nodes[n]['pagetype'] = Facebook.nodes[n]['page_type']\n",
    "#         del Facebook.nodes[n]['page_type']"
   ]
  },
  {
   "cell_type": "code",
   "execution_count": 145,
   "metadata": {},
   "outputs": [
    {
     "data": {
      "text/plain": [
       "{'degree': 1,\n",
       " 'between': 0.0,\n",
       " 'pagename': 'The Voice of China 中国好声音',\n",
       " 'pagetype': 'tvshow'}"
      ]
     },
     "execution_count": 145,
     "metadata": {},
     "output_type": "execute_result"
    }
   ],
   "source": [
    "Facebook.nodes[0]"
   ]
  },
  {
   "cell_type": "code",
   "execution_count": 147,
   "metadata": {},
   "outputs": [],
   "source": [
    "nx.write_gml(Facebook, \"./facebook.gml\")"
   ]
  },
  {
   "cell_type": "code",
   "execution_count": 5,
   "metadata": {},
   "outputs": [],
   "source": [
    "Facebook = nx.read_gml('./facebook.gml')"
   ]
  },
  {
   "cell_type": "code",
   "execution_count": 6,
   "metadata": {},
   "outputs": [],
   "source": [
    "import community"
   ]
  },
  {
   "cell_type": "code",
   "execution_count": 7,
   "metadata": {},
   "outputs": [],
   "source": [
    "def getCommunity(graph):\n",
    "    partitions = community.best_partition(graph, randomize=False)\n",
    "    for n in graph.nodes:\n",
    "        graph.nodes[n]['community'] = partitions[n]\n",
    "    return partitions, graph\n",
    "fb_community, Facebook = getCommunity(Facebook)\n"
   ]
  },
  {
   "cell_type": "code",
   "execution_count": 51,
   "metadata": {},
   "outputs": [],
   "source": [
    "nx.write_gml(Facebook, \"./facebook.gml\")"
   ]
  },
  {
   "cell_type": "code",
   "execution_count": 15,
   "metadata": {},
   "outputs": [
    {
     "data": {
      "text/plain": [
       "67"
      ]
     },
     "execution_count": 15,
     "metadata": {},
     "output_type": "execute_result"
    }
   ],
   "source": [
    "len(set(fb_community.values()))"
   ]
  },
  {
   "cell_type": "code",
   "execution_count": 20,
   "metadata": {},
   "outputs": [],
   "source": [
    "count = Counter(fb_community.values())"
   ]
  },
  {
   "cell_type": "code",
   "execution_count": 45,
   "metadata": {},
   "outputs": [],
   "source": [
    "five_community = [comm for comm in count.keys() if count[comm] in sorted(count.values(), reverse=True)[:4]]"
   ]
  },
  {
   "cell_type": "code",
   "execution_count": 46,
   "metadata": {},
   "outputs": [],
   "source": [
    "Community = collections.defaultdict(list)\n",
    "Category = collections.defaultdict(list)\n",
    "for node in Facebook.nodes():\n",
    "    if Facebook.nodes[node]['community'] in five_community:\n",
    "        Community[Facebook.nodes[node]['community']].append((Facebook.nodes[node]['degree'], node))\n",
    "    Category[Facebook.nodes[node]['pagetype']].append((Facebook.nodes[node]['degree'], node)) \n",
    "        "
   ]
  },
  {
   "cell_type": "code",
   "execution_count": 47,
   "metadata": {},
   "outputs": [],
   "source": [
    "table = []\n",
    "table2= []\n",
    "# area = {3: 'Graph Theory', 5: \"Number Theory\", 9: \"Graph Theory\", 11:\"Combinatorics\", 16:\"Erdos Number\"}\n",
    "for common, ls in Community.items():\n",
    "    ls = sorted(ls, reverse=True)[:3]\n",
    "    for degree, node in ls:\n",
    "        table.append([Facebook.nodes[node]['pagename'], degree, Facebook.nodes[node]['community'], Facebook.nodes[node]['pagetype']])\n",
    "\n",
    "for common, ls in Category.items():\n",
    "    ls = sorted(ls, reverse=True)[:3]\n",
    "    for degree, node in ls:\n",
    "        table2.append([Facebook.nodes[node]['pagename'], degree, Facebook.nodes[node]['community'], Facebook.nodes[node]['pagetype']])"
   ]
  },
  {
   "cell_type": "code",
   "execution_count": 48,
   "metadata": {},
   "outputs": [
    {
     "data": {
      "text/html": [
       "<div>\n",
       "<style scoped>\n",
       "    .dataframe tbody tr th:only-of-type {\n",
       "        vertical-align: middle;\n",
       "    }\n",
       "\n",
       "    .dataframe tbody tr th {\n",
       "        vertical-align: top;\n",
       "    }\n",
       "\n",
       "    .dataframe thead th {\n",
       "        text-align: right;\n",
       "    }\n",
       "</style>\n",
       "<table border=\"1\" class=\"dataframe\">\n",
       "  <thead>\n",
       "    <tr style=\"text-align: right;\">\n",
       "      <th></th>\n",
       "      <th>Page Name</th>\n",
       "      <th>Degree</th>\n",
       "      <th>Community</th>\n",
       "      <th>Page Type</th>\n",
       "    </tr>\n",
       "  </thead>\n",
       "  <tbody>\n",
       "    <tr>\n",
       "      <th>0</th>\n",
       "      <td>U.S. Army</td>\n",
       "      <td>709</td>\n",
       "      <td>1</td>\n",
       "      <td>government</td>\n",
       "    </tr>\n",
       "    <tr>\n",
       "      <th>1</th>\n",
       "      <td>The White House</td>\n",
       "      <td>678</td>\n",
       "      <td>1</td>\n",
       "      <td>government</td>\n",
       "    </tr>\n",
       "    <tr>\n",
       "      <th>2</th>\n",
       "      <td>The Obama White House</td>\n",
       "      <td>659</td>\n",
       "      <td>1</td>\n",
       "      <td>government</td>\n",
       "    </tr>\n",
       "    <tr>\n",
       "      <th>3</th>\n",
       "      <td>FEMA Federal Emergency Management Agency</td>\n",
       "      <td>448</td>\n",
       "      <td>3</td>\n",
       "      <td>government</td>\n",
       "    </tr>\n",
       "    <tr>\n",
       "      <th>4</th>\n",
       "      <td>U.S. National Weather Service (NWS)</td>\n",
       "      <td>296</td>\n",
       "      <td>3</td>\n",
       "      <td>government</td>\n",
       "    </tr>\n",
       "    <tr>\n",
       "      <th>5</th>\n",
       "      <td>National Oceanic and Atmospheric Administratio...</td>\n",
       "      <td>288</td>\n",
       "      <td>3</td>\n",
       "      <td>government</td>\n",
       "    </tr>\n",
       "    <tr>\n",
       "      <th>6</th>\n",
       "      <td>Today Show</td>\n",
       "      <td>141</td>\n",
       "      <td>13</td>\n",
       "      <td>tvshow</td>\n",
       "    </tr>\n",
       "    <tr>\n",
       "      <th>7</th>\n",
       "      <td>Home &amp; Family</td>\n",
       "      <td>137</td>\n",
       "      <td>13</td>\n",
       "      <td>tvshow</td>\n",
       "    </tr>\n",
       "    <tr>\n",
       "      <th>8</th>\n",
       "      <td>Walmart</td>\n",
       "      <td>124</td>\n",
       "      <td>13</td>\n",
       "      <td>company</td>\n",
       "    </tr>\n",
       "    <tr>\n",
       "      <th>9</th>\n",
       "      <td>European Parliament</td>\n",
       "      <td>417</td>\n",
       "      <td>14</td>\n",
       "      <td>government</td>\n",
       "    </tr>\n",
       "    <tr>\n",
       "      <th>10</th>\n",
       "      <td>European Commission</td>\n",
       "      <td>330</td>\n",
       "      <td>14</td>\n",
       "      <td>government</td>\n",
       "    </tr>\n",
       "    <tr>\n",
       "      <th>11</th>\n",
       "      <td>European External Action Service - EEAS</td>\n",
       "      <td>237</td>\n",
       "      <td>14</td>\n",
       "      <td>government</td>\n",
       "    </tr>\n",
       "  </tbody>\n",
       "</table>\n",
       "</div>"
      ],
      "text/plain": [
       "                                            Page Name  Degree  Community  \\\n",
       "0                                           U.S. Army     709          1   \n",
       "1                                     The White House     678          1   \n",
       "2                               The Obama White House     659          1   \n",
       "3            FEMA Federal Emergency Management Agency     448          3   \n",
       "4                 U.S. National Weather Service (NWS)     296          3   \n",
       "5   National Oceanic and Atmospheric Administratio...     288          3   \n",
       "6                                          Today Show     141         13   \n",
       "7                                       Home & Family     137         13   \n",
       "8                                             Walmart     124         13   \n",
       "9                                 European Parliament     417         14   \n",
       "10                                European Commission     330         14   \n",
       "11            European External Action Service - EEAS     237         14   \n",
       "\n",
       "     Page Type  \n",
       "0   government  \n",
       "1   government  \n",
       "2   government  \n",
       "3   government  \n",
       "4   government  \n",
       "5   government  \n",
       "6       tvshow  \n",
       "7       tvshow  \n",
       "8      company  \n",
       "9   government  \n",
       "10  government  \n",
       "11  government  "
      ]
     },
     "execution_count": 48,
     "metadata": {},
     "output_type": "execute_result"
    }
   ],
   "source": [
    "pd.DataFrame(table, columns=[\"Page Name\", \"Degree\", \"Community\", \"Page Type\"])"
   ]
  },
  {
   "cell_type": "code",
   "execution_count": 49,
   "metadata": {},
   "outputs": [
    {
     "data": {
      "text/html": [
       "<div>\n",
       "<style scoped>\n",
       "    .dataframe tbody tr th:only-of-type {\n",
       "        vertical-align: middle;\n",
       "    }\n",
       "\n",
       "    .dataframe tbody tr th {\n",
       "        vertical-align: top;\n",
       "    }\n",
       "\n",
       "    .dataframe thead th {\n",
       "        text-align: right;\n",
       "    }\n",
       "</style>\n",
       "<table border=\"1\" class=\"dataframe\">\n",
       "  <thead>\n",
       "    <tr style=\"text-align: right;\">\n",
       "      <th></th>\n",
       "      <th>Page Name</th>\n",
       "      <th>Degree</th>\n",
       "      <th>Community</th>\n",
       "      <th>Page Type</th>\n",
       "    </tr>\n",
       "  </thead>\n",
       "  <tbody>\n",
       "    <tr>\n",
       "      <th>0</th>\n",
       "      <td>Today Show</td>\n",
       "      <td>141</td>\n",
       "      <td>13</td>\n",
       "      <td>tvshow</td>\n",
       "    </tr>\n",
       "    <tr>\n",
       "      <th>1</th>\n",
       "      <td>Home &amp; Family</td>\n",
       "      <td>137</td>\n",
       "      <td>13</td>\n",
       "      <td>tvshow</td>\n",
       "    </tr>\n",
       "    <tr>\n",
       "      <th>2</th>\n",
       "      <td>tagesschau</td>\n",
       "      <td>119</td>\n",
       "      <td>21</td>\n",
       "      <td>tvshow</td>\n",
       "    </tr>\n",
       "    <tr>\n",
       "      <th>3</th>\n",
       "      <td>U.S. Army</td>\n",
       "      <td>709</td>\n",
       "      <td>1</td>\n",
       "      <td>government</td>\n",
       "    </tr>\n",
       "    <tr>\n",
       "      <th>4</th>\n",
       "      <td>The White House</td>\n",
       "      <td>678</td>\n",
       "      <td>1</td>\n",
       "      <td>government</td>\n",
       "    </tr>\n",
       "    <tr>\n",
       "      <th>5</th>\n",
       "      <td>The Obama White House</td>\n",
       "      <td>659</td>\n",
       "      <td>1</td>\n",
       "      <td>government</td>\n",
       "    </tr>\n",
       "    <tr>\n",
       "      <th>6</th>\n",
       "      <td>Facebook</td>\n",
       "      <td>380</td>\n",
       "      <td>4</td>\n",
       "      <td>company</td>\n",
       "    </tr>\n",
       "    <tr>\n",
       "      <th>7</th>\n",
       "      <td>NASA - National Aeronautics and Space Administ...</td>\n",
       "      <td>328</td>\n",
       "      <td>1</td>\n",
       "      <td>company</td>\n",
       "    </tr>\n",
       "    <tr>\n",
       "      <th>8</th>\n",
       "      <td>CNN</td>\n",
       "      <td>167</td>\n",
       "      <td>1</td>\n",
       "      <td>company</td>\n",
       "    </tr>\n",
       "    <tr>\n",
       "      <th>9</th>\n",
       "      <td>Barack Obama</td>\n",
       "      <td>341</td>\n",
       "      <td>1</td>\n",
       "      <td>politician</td>\n",
       "    </tr>\n",
       "    <tr>\n",
       "      <th>10</th>\n",
       "      <td>Manfred Weber</td>\n",
       "      <td>326</td>\n",
       "      <td>25</td>\n",
       "      <td>politician</td>\n",
       "    </tr>\n",
       "    <tr>\n",
       "      <th>11</th>\n",
       "      <td>Joachim Herrmann</td>\n",
       "      <td>320</td>\n",
       "      <td>25</td>\n",
       "      <td>politician</td>\n",
       "    </tr>\n",
       "  </tbody>\n",
       "</table>\n",
       "</div>"
      ],
      "text/plain": [
       "                                            Page Name  Degree  Community  \\\n",
       "0                                          Today Show     141         13   \n",
       "1                                       Home & Family     137         13   \n",
       "2                                          tagesschau     119         21   \n",
       "3                                           U.S. Army     709          1   \n",
       "4                                     The White House     678          1   \n",
       "5                               The Obama White House     659          1   \n",
       "6                                            Facebook     380          4   \n",
       "7   NASA - National Aeronautics and Space Administ...     328          1   \n",
       "8                                                 CNN     167          1   \n",
       "9                                        Barack Obama     341          1   \n",
       "10                                      Manfred Weber     326         25   \n",
       "11                                   Joachim Herrmann     320         25   \n",
       "\n",
       "     Page Type  \n",
       "0       tvshow  \n",
       "1       tvshow  \n",
       "2       tvshow  \n",
       "3   government  \n",
       "4   government  \n",
       "5   government  \n",
       "6      company  \n",
       "7      company  \n",
       "8      company  \n",
       "9   politician  \n",
       "10  politician  \n",
       "11  politician  "
      ]
     },
     "execution_count": 49,
     "metadata": {},
     "output_type": "execute_result"
    }
   ],
   "source": [
    "pd.DataFrame(table2, columns=[\"Page Name\", \"Degree\", \"Community\", \"Page Type\"])"
   ]
  },
  {
   "cell_type": "code",
   "execution_count": null,
   "metadata": {},
   "outputs": [],
   "source": []
  }
 ],
 "metadata": {
  "anaconda-cloud": {},
  "kernelspec": {
   "display_name": "Python [conda env:py35]",
   "language": "python",
   "name": "conda-env-py35-py"
  },
  "language_info": {
   "codemirror_mode": {
    "name": "ipython",
    "version": 3
   },
   "file_extension": ".py",
   "mimetype": "text/x-python",
   "name": "python",
   "nbconvert_exporter": "python",
   "pygments_lexer": "ipython3",
   "version": "3.7.3"
  }
 },
 "nbformat": 4,
 "nbformat_minor": 2
}
