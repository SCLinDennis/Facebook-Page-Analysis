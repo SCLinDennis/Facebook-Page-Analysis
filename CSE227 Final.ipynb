{
 "cells": [
  {
   "cell_type": "code",
   "execution_count": 2,
   "metadata": {},
   "outputs": [],
   "source": [
    "import matplotlib.pyplot as plt\n",
    "import os\n",
    "import networkx as nx\n",
    "import pandas as pd\n",
    "import csv"
   ]
  },
  {
   "cell_type": "code",
   "execution_count": 5,
   "metadata": {},
   "outputs": [],
   "source": [
    "os.chdir('./facebook_large/')"
   ]
  },
  {
   "cell_type": "code",
   "execution_count": 131,
   "metadata": {},
   "outputs": [],
   "source": [
    "def read_csv(csv_path, label_path):\n",
    "    edges = pd.read_csv(csv_path)\n",
    "    label = pd.read_csv(label_path)\n",
    "    edges = edges.rename(columns={\"id_1\": \"source\", \"id_2\": \"target\"})\n",
    "    Graphtype = nx.Graph()\n",
    "    graph = nx.from_pandas_edgelist(edges, create_using=Graphtype)\n",
    "    for i, node in enumerate(graph.nodes()):\n",
    "        graph.nodes[node]['pagename'] = label[label['id'] == node]['pagename'][node]\n",
    "        graph.nodes[node]['pagetype'] = label[label['id'] == node]['pagetype'][node]\n",
    "    return graph"
   ]
  },
  {
   "cell_type": "code",
   "execution_count": 132,
   "metadata": {},
   "outputs": [],
   "source": [
    "csv_path = \"./musae_facebook_edges.csv\"\n",
    "label_path = \"./musae_facebook_target.csv\"\n",
    "Facebook = read_csv(csv_path, label_path)"
   ]
  },
  {
   "cell_type": "code",
   "execution_count": 133,
   "metadata": {},
   "outputs": [],
   "source": [
    "degree = Facebook.degree()"
   ]
  },
  {
   "cell_type": "code",
   "execution_count": 134,
   "metadata": {},
   "outputs": [],
   "source": [
    "b_centrality = nx.betweenness_centrality(Facebook)"
   ]
  },
  {
   "cell_type": "code",
   "execution_count": 135,
   "metadata": {},
   "outputs": [],
   "source": [
    "for n in Facebook.nodes():\n",
    "    Facebook.nodes[n]['degree'] = degree[n]\n",
    "for n in Facebook.nodes():\n",
    "    Facebook.nodes[n]['between'] = b_centrality[n]"
   ]
  },
  {
   "cell_type": "code",
   "execution_count": 146,
   "metadata": {},
   "outputs": [],
   "source": [
    "# for n in Facebook:\n",
    "#     if 'page_name' in Facebook.nodes[n]:\n",
    "#         Facebook.nodes[n]['pagename'] = Facebook.nodes[n]['page_name']\n",
    "#         del Facebook.nodes[n]['page_name']\n",
    "#     if 'page_type' in Facebook.nodes[n]:\n",
    "#         Facebook.nodes[n]['pagetype'] = Facebook.nodes[n]['page_type']\n",
    "#         del Facebook.nodes[n]['page_type']"
   ]
  },
  {
   "cell_type": "code",
   "execution_count": 145,
   "metadata": {},
   "outputs": [
    {
     "data": {
      "text/plain": [
       "{'degree': 1,\n",
       " 'between': 0.0,\n",
       " 'pagename': 'The Voice of China 中国好声音',\n",
       " 'pagetype': 'tvshow'}"
      ]
     },
     "execution_count": 145,
     "metadata": {},
     "output_type": "execute_result"
    }
   ],
   "source": [
    "Facebook.nodes[0]"
   ]
  },
  {
   "cell_type": "code",
   "execution_count": 147,
   "metadata": {},
   "outputs": [],
   "source": [
    "nx.write_gml(Facebook, \"./facebook.gml\")"
   ]
  },
  {
   "cell_type": "code",
   "execution_count": null,
   "metadata": {},
   "outputs": [],
   "source": [
    "nx.load_gml?"
   ]
  },
  {
   "cell_type": "code",
   "execution_count": null,
   "metadata": {},
   "outputs": [],
   "source": []
  }
 ],
 "metadata": {
  "anaconda-cloud": {},
  "kernelspec": {
   "display_name": "Python [conda env:py35]",
   "language": "python",
   "name": "conda-env-py35-py"
  },
  "language_info": {
   "codemirror_mode": {
    "name": "ipython",
    "version": 3
   },
   "file_extension": ".py",
   "mimetype": "text/x-python",
   "name": "python",
   "nbconvert_exporter": "python",
   "pygments_lexer": "ipython3",
   "version": "3.7.3"
  }
 },
 "nbformat": 4,
 "nbformat_minor": 2
}
